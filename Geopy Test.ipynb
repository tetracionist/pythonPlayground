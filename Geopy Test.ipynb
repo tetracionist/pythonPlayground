{
 "cells": [
  {
   "cell_type": "code",
   "execution_count": 4,
   "metadata": {},
   "outputs": [],
   "source": [
    "from geopy import *"
   ]
  },
  {
   "cell_type": "markdown",
   "metadata": {},
   "source": [
    "### Write a program  to search the Street address, name from a given location information"
   ]
  },
  {
   "cell_type": "code",
   "execution_count": 26,
   "metadata": {},
   "outputs": [
    {
     "name": "stdout",
     "output_type": "stream",
     "text": [
      "['Milltek Sport', ' 3', ' Victoria Way', ' Pride Park', ' Derby', ' East Midlands', ' England', ' DE24 8AN', ' United Kingdom']\n"
     ]
    }
   ],
   "source": [
    "geolocator = Nominatim(user_agent=\"geoapiExercises\")\n",
    "ladd1 = \"3 Victoria Way\"\n",
    "address = geolocator.geocode(ladd1).address\n",
    "full_address = address.split(\",\")\n",
    "\n",
    "print(full_address)"
   ]
  },
  {
   "cell_type": "markdown",
   "metadata": {},
   "source": [
    "### Write a program to search for the country name from given name of county"
   ]
  },
  {
   "cell_type": "code",
   "execution_count": 20,
   "metadata": {},
   "outputs": [
    {
     "name": "stdout",
     "output_type": "stream",
     "text": [
      " United Kingdom\n"
     ]
    }
   ],
   "source": [
    "county = \"Surrey\"\n",
    "loc = geolocator.geocode(county).address\n",
    "full_location=loc.split(\",\")\n",
    "country=full_location[-1]\n",
    "print(country)"
   ]
  },
  {
   "cell_type": "code",
   "execution_count": null,
   "metadata": {},
   "outputs": [],
   "source": [
    "## Write a program"
   ]
  }
 ],
 "metadata": {
  "kernelspec": {
   "display_name": "Python 3",
   "language": "python",
   "name": "python3"
  },
  "language_info": {
   "codemirror_mode": {
    "name": "ipython",
    "version": 3
   },
   "file_extension": ".py",
   "mimetype": "text/x-python",
   "name": "python",
   "nbconvert_exporter": "python",
   "pygments_lexer": "ipython3",
   "version": "3.7.4"
  }
 },
 "nbformat": 4,
 "nbformat_minor": 2
}
