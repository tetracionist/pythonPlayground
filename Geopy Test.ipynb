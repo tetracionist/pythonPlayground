{
 "cells": [
  {
   "cell_type": "markdown",
   "metadata": {},
   "source": [
    "### Import geopy and create geolocator instances"
   ]
  },
  {
   "cell_type": "code",
   "execution_count": 46,
   "metadata": {},
   "outputs": [],
   "source": [
    "from geopy import *\n",
    "geolocator = Nominatim(user_agent=\"tetracionist\") \n",
    "what3words = geopy.geocoders.What3Words(\"HEWZS3FX\", user_agent=\"tetracionist\")"
   ]
  },
  {
   "cell_type": "markdown",
   "metadata": {},
   "source": [
    "### Write a program  to search the Street address, name from a given location information"
   ]
  },
  {
   "cell_type": "code",
   "execution_count": 32,
   "metadata": {},
   "outputs": [
    {
     "name": "stdout",
     "output_type": "stream",
     "text": [
      "['The Snow Centre', ' Jennings Way', ' Jarmans Park', ' Bennetts End', ' Dacorum', ' Hertfordshire', ' East of England', ' England', ' HP3 9XQ', ' United Kingdom']\n"
     ]
    }
   ],
   "source": [
    "ladd1 = \"The Snow Centre\"\n",
    "address = geolocator.geocode(ladd1).address\n",
    "full_address = address.split(\",\")\n",
    "\n",
    "print(full_address)"
   ]
  },
  {
   "cell_type": "markdown",
   "metadata": {},
   "source": [
    "### Write a program to search for the country name from given name of county"
   ]
  },
  {
   "cell_type": "code",
   "execution_count": 20,
   "metadata": {},
   "outputs": [
    {
     "name": "stdout",
     "output_type": "stream",
     "text": [
      " United Kingdom\n"
     ]
    }
   ],
   "source": [
    "county = \"Surrey\"\n",
    "loc = geolocator.geocode(county).address\n",
    "full_location=loc.split(\",\")\n",
    "country=full_location[-1]\n",
    "print(country)"
   ]
  },
  {
   "cell_type": "markdown",
   "metadata": {},
   "source": [
    "### This program tells us the town of the given postcode"
   ]
  },
  {
   "cell_type": "code",
   "execution_count": 44,
   "metadata": {},
   "outputs": [
    {
     "name": "stdout",
     "output_type": "stream",
     "text": [
      "['East Grinstead', ' Mid Sussex', ' West Sussex', ' South East', ' England', ' RH19 4RX', ' United Kingdom']\n"
     ]
    }
   ],
   "source": [
    "postcode = \"RH19 4RX\"\n",
    "loc = geolocator.geocode(postcode).address\n",
    "full_address = loc.split(\",\")\n",
    "print(full_address)\n",
    "\n"
   ]
  },
  {
   "cell_type": "markdown",
   "metadata": {},
   "source": [
    "### Using the what3words engine: \n",
    "- First we have to create a point based on address point\n",
    "- Then we can find what three words are represented by this"
   ]
  },
  {
   "cell_type": "code",
   "execution_count": 96,
   "metadata": {},
   "outputs": [
    {
     "name": "stdout",
     "output_type": "stream",
     "text": [
      "Postcode: East Grinstead, Mid Sussex, West Sussex, South East, England, RH19 3TY, United Kingdom \n",
      "jots.inhaled.gourmet\n",
      "\n",
      "\n",
      "School_1: Sackville School, Lewes Road, East Grinstead, Mid Sussex, West Sussex, South East, England, RH19 3TY, United Kingdom \n",
      "downsize.interacts.thumps\n",
      "\n",
      "\n",
      "School_2: Estcots Primary School, Bourg-de-Peage Avenue, East Grinstead, Mid Sussex, West Sussex, South East, England, RH19 3TY, United Kingdom \n",
      "traded.plus.cling\n"
     ]
    }
   ],
   "source": [
    "postcode = \"RH19 3TY\"\n",
    "add_postcode = geolocator.geocode(postcode).address\n",
    "xy_postcode = geolocator.geocode(postcode).point\n",
    "w3w_postcode=what3words.reverse(xy_postcode)\n",
    "\n",
    "school1 = \"Sackville School, RH19 3TY\"\n",
    "add_school1 = geolocator.geocode(school1).address \n",
    "xy_school = geolocator.geocode(school1).point\n",
    "w3w_school=what3words.reverse(xy_school)\n",
    "\n",
    "school2 = \"Estcots Primary School, RH19 3TY\"\n",
    "add_school2 = geolocator.geocode(school2).address \n",
    "xy_school2 = geolocator.geocode(school2).point\n",
    "w3w_school2 = what3words.reverse(xy_school2)\n",
    "\n",
    "print(\"Postcode:\", add_postcode, \"\\n\" + str(w3w_postcode))\n",
    "print(\"\\n\")\n",
    "print(\"School_1:\", add_school1, \"\\n\" + str(w3w_school))\n",
    "print(\"\\n\")\n",
    "print(\"School_2:\", add_school2, \"\\n\" + str(w3w_school2))"
   ]
  }
 ],
 "metadata": {
  "kernelspec": {
   "display_name": "Python 3",
   "language": "python",
   "name": "python3"
  },
  "language_info": {
   "codemirror_mode": {
    "name": "ipython",
    "version": 3
   },
   "file_extension": ".py",
   "mimetype": "text/x-python",
   "name": "python",
   "nbconvert_exporter": "python",
   "pygments_lexer": "ipython3",
   "version": "3.7.4"
  }
 },
 "nbformat": 4,
 "nbformat_minor": 2
}
